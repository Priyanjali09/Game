{
  "nbformat": 4,
  "nbformat_minor": 0,
  "metadata": {
    "colab": {
      "name": "snakeWaterGun.ipynb",
      "provenance": []
    },
    "kernelspec": {
      "name": "python3",
      "display_name": "Python 3"
    },
    "language_info": {
      "name": "python"
    }
  },
  "cells": [
    {
      "cell_type": "code",
      "execution_count": null,
      "metadata": {
        "colab": {
          "base_uri": "https://localhost:8080/"
        },
        "id": "kVM0CJDIBifO",
        "outputId": "61b0bc0f-aade-4e7f-9168-8e2bc947d159"
      },
      "outputs": [
        {
          "output_type": "stream",
          "name": "stdout",
          "text": [
            "Computers turn : snake(s),water(w),gun(g)\n",
            "Choose snake(s),water(w),gun(g)s\n",
            "computer chose  s\n",
            "You chose  s\n",
            "Match draw\n"
          ]
        }
      ],
      "source": [
        "import random\n",
        "def game(c,p):\n",
        "    if c == p:\n",
        "        return None\n",
        "    elif c == 's':\n",
        "        if p == 'w':\n",
        "            return False\n",
        "        elif p == 'g':\n",
        "            return True\n",
        "    elif c == 'w':\n",
        "        if p == 'g':\n",
        "            return False\n",
        "        elif p == 's':\n",
        "            return True\n",
        "    elif c == 'g':\n",
        "        if p == 's':\n",
        "            return False\n",
        "        elif p == 'w':\n",
        "            return True\n",
        "print(\"Computers turn : snake(s),water(w),gun(g)\")\n",
        "rand1 = random.randint(1,3)\n",
        "if(rand1 == 1):\n",
        "    comp = 's'\n",
        "elif(rand1 == 2):\n",
        "    comp = 'w'\n",
        "elif(rand1 == 3):\n",
        "    comp = 'g'\n",
        "you = input(\"Choose snake(s),water(w),gun(g)\")\n",
        "a = game(comp,you)\n",
        "\n",
        "print(\"computer chose \", comp)\n",
        "print(\"You chose \",you)\n",
        "\n",
        "if a == None:\n",
        "    print(\"Match draw\")\n",
        "elif a == 1:\n",
        "    print(\"You won\")\n",
        "else:\n",
        "    print(\"You lose\")"
      ]
    },
    {
      "cell_type": "code",
      "source": [
        ""
      ],
      "metadata": {
        "id": "iIj9zlVhBmGZ"
      },
      "execution_count": null,
      "outputs": []
    }
  ]
}