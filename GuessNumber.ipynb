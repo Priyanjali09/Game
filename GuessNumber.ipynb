{
  "nbformat": 4,
  "nbformat_minor": 0,
  "metadata": {
    "colab": {
      "name": "GuessNumber.ipynb",
      "provenance": []
    },
    "kernelspec": {
      "name": "python3",
      "display_name": "Python 3"
    },
    "language_info": {
      "name": "python"
    }
  },
  "cells": [
    {
      "cell_type": "code",
      "execution_count": null,
      "metadata": {
        "colab": {
          "base_uri": "https://localhost:8080/"
        },
        "id": "Dv5tQF6a_zJC",
        "outputId": "455391cc-1b21-4429-9b5e-234255451be5"
      },
      "outputs": [
        {
          "output_type": "stream",
          "name": "stdout",
          "text": [
            "Enter a number: 5\n",
            "Incorrect! Try a greater number\n",
            "Enter a number: 7\n",
            "Incorrect! Try a greater number\n",
            "Enter a number: 23\n",
            "Incorrect! Try a greater number\n",
            "Enter a number: 34\n",
            "Incorrect! Try a greater number\n",
            "Enter a number: 55\n",
            "Incorrect! Try a greater number\n",
            "Enter a number: 67\n",
            "Incorrect! Try a greater number\n",
            "Enter a number: 88\n",
            "Incorrect! Try a lower number\n",
            "Enter a number: 77\n",
            "Incorrect! Try a greater number\n",
            "Enter a number: 80\n",
            "Incorrect! Try a greater number\n",
            "Enter a number: 83\n",
            "Incorrect! Try a lower number\n",
            "Enter a number: 82\n",
            "You guessed the number correct!\n",
            "You guesseed the number in 11 guesses\n"
          ]
        }
      ],
      "source": [
        "import random\n",
        "rand = random.randint(1,100)\n",
        "\n",
        "userGuess = None\n",
        "guess = 0\n",
        "\n",
        "while(userGuess != rand):\n",
        "    userGuess = int(input(\"Enter a number: \"))\n",
        "    guess += 1\n",
        "    if(userGuess == rand):\n",
        "        print(\"You guessed the number correct!\")\n",
        "    else:\n",
        "        if(userGuess > rand):\n",
        "            print(\"Incorrect! Try a lower number\")\n",
        "        else:\n",
        "            print(\"Incorrect! Try a greater number\")\n",
        "print(f\"You guesseed the number in {guess} guesses\")"
      ]
    },
    {
      "cell_type": "code",
      "source": [
        ""
      ],
      "metadata": {
        "id": "0rSmr3IO_3aJ"
      },
      "execution_count": null,
      "outputs": []
    }
  ]
}